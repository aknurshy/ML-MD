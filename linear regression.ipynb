{
 "cells": [
  {
   "cell_type": "code",
   "execution_count": 1,
   "metadata": {},
   "outputs": [],
   "source": [
    "import numpy as np\n",
    "import pandas as pd\n",
    "from numpy.linalg import inv\n",
    "from sklearn.datasets import load_boston\n",
    "from statsmodels.regression.linear_model import OLS"
   ]
  },
  {
   "cell_type": "code",
   "execution_count": 2,
   "metadata": {},
   "outputs": [
    {
     "name": "stdout",
     "output_type": "stream",
     "text": [
      "         Coefficients  Coefficients of Linear Model\n",
      "INT           36.4595                       36.4595\n",
      "CRIM          -0.1080                       -0.1080\n",
      "ZN             0.0464                        0.0464\n",
      "INDUS          0.0206                        0.0206\n",
      "CHAS           2.6867                        2.6867\n",
      "NOX          -17.7666                      -17.7666\n",
      "RM             3.8099                        3.8099\n",
      "AGE            0.0007                        0.0007\n",
      "DIS           -1.4756                       -1.4756\n",
      "RAD            0.3060                        0.3060\n",
      "TAX           -0.0123                       -0.0123\n",
      "PTRATIO       -0.9527                       -0.9527\n",
      "B              0.0093                        0.0093\n",
      "LSTAT         -0.5248                       -0.5248\n"
     ]
    }
   ],
   "source": [
    "#Load the Boston dataset, obtaining the feature matrix and target variable\n",
    "boston = load_boston()\n",
    "X = boston.data\n",
    "y = boston.target\n",
    "\n",
    "#Creating vector of ones and adding it to the feature matrix\n",
    "int = np.ones(shape = y.shape)[..., None]\n",
    "X = np.concatenate((int, X), 1)\n",
    "Xtr = X.transpose() \n",
    "\n",
    "#Calculating coefficients using Closed - Form Solution, vector of parameters B\n",
    "coefficients = inv(Xtr.dot(X)).dot(Xtr).dot(y)\n",
    "\n",
    "#Adding new column \"INT\"\n",
    "feat_names = np.insert(boston.feature_names, 0, 'INT')\n",
    "\n",
    "#Collecting values of vector B into a DataFrame\n",
    "results = pd.DataFrame({'Coefficients':coefficients}, index = feat_names)\n",
    "\n",
    "#Creating a linear model and getting the parameters\n",
    "linModel = OLS(y, X).fit().params\n",
    "\n",
    "#Adding into DataFrame values estimated by linear model \n",
    "results['Coefficients of Linear Model'] = linModel\n",
    "\n",
    "print(results.round(4))"
   ]
  },
  {
   "cell_type": "code",
   "execution_count": null,
   "metadata": {},
   "outputs": [],
   "source": []
  }
 ],
 "metadata": {
  "kernelspec": {
   "display_name": "Python 3",
   "language": "python",
   "name": "python3"
  },
  "language_info": {
   "codemirror_mode": {
    "name": "ipython",
    "version": 3
   },
   "file_extension": ".py",
   "mimetype": "text/x-python",
   "name": "python",
   "nbconvert_exporter": "python",
   "pygments_lexer": "ipython3",
   "version": "3.7.3"
  }
 },
 "nbformat": 4,
 "nbformat_minor": 2
}
